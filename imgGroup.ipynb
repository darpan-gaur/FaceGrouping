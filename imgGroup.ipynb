{
 "cells": [
  {
   "cell_type": "code",
   "execution_count": null,
   "metadata": {},
   "outputs": [],
   "source": [
    "## import required modules\n",
    "import numpy as np\n",
    "import cv2\n",
    "import matplotlib.pyplot as plt\n",
    "import face_recognition\n",
    "import os\n",
    "from pathlib import Path\n",
    "from shutil import copyfile"
   ]
  },
  {
   "cell_type": "code",
   "execution_count": null,
   "metadata": {},
   "outputs": [],
   "source": [
    "## set paths to different folders\n",
    "cwd = os.getcwd()\n",
    "p = os.path.join(cwd, 'dataset' )\n",
    "\n",
    "results_path = os.path.join(cwd, 'results')\n",
    "encodings = {}"
   ]
  },
  {
   "cell_type": "code",
   "execution_count": null,
   "metadata": {},
   "outputs": [],
   "source": [
    "def process_file(filepath):\n",
    "    img = face_recognition.load_image_file(filepath)\n",
    "    fe = face_recognition.face_encodings(img)\n",
    "    if fe:\n",
    "        fe = fe[0]\n",
    "    else: return\n",
    "    action_taken = False\n",
    "    curr_image_cluster_id = None\n",
    "    for cluster_id, cluster_encodings in encodings.items():\n",
    "        results = face_recognition.compare_faces(cluster_encodings, fe)\n",
    "        print(\"results %s %s\" % (results, cluster_id))\n",
    "        if all(results):\n",
    "            print(\"cluster_id %s\" % cluster_id)\n",
    "            curr_image_cluster_id = cluster_id\n",
    "            encodings.get(cluster_id).append(fe)\n",
    "            action_taken = True\n",
    "\n",
    "    if not action_taken:\n",
    "        curr_image_cluster_id = \"cluster_%s\" % (len(encodings.keys()) + 1)\n",
    "        print(\"creating new cluster %s\" % curr_image_cluster_id)\n",
    "        encodings[curr_image_cluster_id] = [fe]\n",
    "    curr_cluster = os.path.join(results_path, curr_image_cluster_id)\n",
    "    curr_cluster_dir = Path(curr_cluster)\n",
    "    curr_cluster_dir.mkdir(parents=True, exist_ok=True)\n",
    "    copyfile(filepath, os.path.join(curr_cluster_dir, file))"
   ]
  },
  {
   "cell_type": "code",
   "execution_count": null,
   "metadata": {},
   "outputs": [],
   "source": [
    "## function to process each file\n",
    "def process_file2(filepath):\n",
    "    img = face_recognition.load_image_file(filepath)\n",
    "    faceEnco = face_recognition.face_encodings(img)\n",
    "    for fe in faceEnco:\n",
    "        action_taken = False\n",
    "        curr_image_cluster_id = None\n",
    "        for cluster_id, cluster_encodings in encodings.items():\n",
    "            results = face_recognition.compare_faces(cluster_encodings, fe)\n",
    "            print(\"results %s %s\" % (results, cluster_id))\n",
    "            if all(results):\n",
    "                print(\"cluster_id %s\" % cluster_id)\n",
    "                curr_image_cluster_id = cluster_id\n",
    "                encodings.get(cluster_id).append(fe)\n",
    "                action_taken = True\n",
    "\n",
    "        if not action_taken:\n",
    "            curr_image_cluster_id = \"cluster_%s\" % (len(encodings.keys()) + 1)\n",
    "            print(\"creating new cluster %s\" % curr_image_cluster_id)\n",
    "            encodings[curr_image_cluster_id] = [fe]\n",
    "        curr_cluster = os.path.join(results_path, curr_image_cluster_id)\n",
    "        curr_cluster_dir = Path(curr_cluster)\n",
    "        curr_cluster_dir.mkdir(parents=True, exist_ok=True)\n",
    "        copyfile(filepath, os.path.join(curr_cluster_dir, file))"
   ]
  },
  {
   "cell_type": "code",
   "execution_count": null,
   "metadata": {},
   "outputs": [],
   "source": [
    "## Process files in the dataset folder\n",
    "curr = 0\n",
    "for subdir, dirs, files in os.walk(p):\n",
    "    total = len(files)\n",
    "    for file in files:\n",
    "        filepath = os.path.join(subdir, file)\n",
    "        print(\"File: %s\" % filepath)\n",
    "        process_file(filepath)\n",
    "        curr += 1\n",
    "        print(\"file %s/%s - %s encodings\" % (curr, total, len(encodings)))\n"
   ]
  }
 ],
 "metadata": {
  "language_info": {
   "name": "python"
  },
  "orig_nbformat": 4
 },
 "nbformat": 4,
 "nbformat_minor": 2
}
